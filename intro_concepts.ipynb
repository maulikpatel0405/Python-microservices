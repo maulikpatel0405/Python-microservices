{
 "cells": [
  {
   "cell_type": "code",
   "execution_count": 2,
   "metadata": {},
   "outputs": [
    {
     "name": "stdout",
     "output_type": "stream",
     "text": [
      "Maulik\n"
     ]
    }
   ],
   "source": [
    "lallu = ['barack hussein obama ii', 'bə-rahk hoo-sayn oh-bah-mə', 'august', 'american politician', '44th president', 'democratic party', 'african-american', 'u.s.', 'obama', 'u.s.', 'illinois', 'illinois', 'state senator', 'civil rights lawyer', 'university lecturer', 'obama', 'hawaii', 'columbia', 'b.a', 'political science', 'community organizer', 'chicago', 'obama', 'harvard', 'law school', 'black president', 'harvard', 'review', 'civil rights attorney', 'constitutional law', 'chicago', 'law school', 'elective politics', 'obama', 'illinois', 'u.s.', 'close primary campaign', 'hillary clinton', 'democratic party', 'joe biden']\n",
    "len(lallu)\n",
    "print('Maulik')\n"
   ]
  }
 ],
 "metadata": {
  "kernelspec": {
   "display_name": "Python 3",
   "language": "python",
   "name": "python3"
  },
  "language_info": {
   "codemirror_mode": {
    "name": "ipython",
    "version": 3
   },
   "file_extension": ".py",
   "mimetype": "text/x-python",
   "name": "python",
   "nbconvert_exporter": "python",
   "pygments_lexer": "ipython3",
   "version": "3.10.13"
  }
 },
 "nbformat": 4,
 "nbformat_minor": 2
}
